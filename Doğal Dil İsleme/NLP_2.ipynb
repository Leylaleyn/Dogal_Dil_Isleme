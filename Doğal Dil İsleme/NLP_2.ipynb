{
 "cells": [
  {
   "cell_type": "markdown",
   "id": "de72bf3f",
   "metadata": {},
   "source": [
    "### Kelimelerin Vektörel olarak sembolize edilmesi (Word2vec)"
   ]
  },
  {
   "cell_type": "code",
   "execution_count": 1,
   "id": "5176f53f",
   "metadata": {},
   "outputs": [],
   "source": [
    "# Bilgisayarın dilimizi anlaması için ilk adım kelimeleri anlamasını sağlamaktır."
   ]
  },
  {
   "cell_type": "markdown",
   "id": "201346d2",
   "metadata": {},
   "source": [
    "#### Kelimelerin temsil edilmesi"
   ]
  },
  {
   "cell_type": "code",
   "execution_count": 3,
   "id": "05ab6d1d",
   "metadata": {},
   "outputs": [],
   "source": [
    "# Kelimeleri ONE-HOT   vektör olarak temsil edebiliriz."
   ]
  },
  {
   "cell_type": "code",
   "execution_count": 4,
   "id": "b963a698",
   "metadata": {},
   "outputs": [],
   "source": [
    "# Şimdi şöyle Google'da \"Dell notebook ücreti\" diye arama yaptıgımız \n",
    "#zaman aynı zamanda \"Dell laptop fiyatı\" ile ilgili sonuçların da karşımıza \n",
    "#çıkmasını isteriz"
   ]
  },
  {
   "cell_type": "code",
   "execution_count": 5,
   "id": "9a4a9d96",
   "metadata": {},
   "outputs": [],
   "source": [
    "# ONE-HOT VEKTORLER İLE KELİMELER ARASINDAKİ İLİŞKİ SAKLANMIYOR"
   ]
  },
  {
   "cell_type": "markdown",
   "id": "97c6895d",
   "metadata": {},
   "source": [
    "dolayısıyla yapmamız gereken"
   ]
  },
  {
   "cell_type": "markdown",
   "id": "5da5d5f0",
   "metadata": {},
   "source": [
    "#### Kelime Vektörleri"
   ]
  },
  {
   "cell_type": "code",
   "execution_count": 6,
   "id": "a8ba9852",
   "metadata": {},
   "outputs": [],
   "source": [
    "# Her kelime için birer vektör oluşturacağız\n",
    "# Vektörler kelimeler arasındaki anlamsal bilgileri saklayacak\n",
    "# Birbirine benzer kelimelerin vektörleri birbirine yakın olacak.\n",
    "# Kelime vektörü oluşturmak için en modern yontemler : word2vec , GloVe"
   ]
  },
  {
   "cell_type": "code",
   "execution_count": 7,
   "id": "02d72c41",
   "metadata": {},
   "outputs": [],
   "source": [
    "# Not:Kelime vektörü, word vector, word embedding, embedding hep aynı şeyi ifade ediyor."
   ]
  },
  {
   "cell_type": "markdown",
   "id": "12fb048b",
   "metadata": {},
   "source": [
    "                                        Word2vec\n",
    "               * kenardaki kelimeler ortadaki kelimeyi temsil eder\n",
    "       ...boynuzların ticareti içiç avlanan gergedan, boynuzun ozellikle...\n",
    "      ..neandertal insanlar ile su aygırı,gergedan, aslan, fil gibi hayva..\n",
    "      \n",
    "                                        "
   ]
  },
  {
   "cell_type": "markdown",
   "id": "69f80969",
   "metadata": {},
   "source": [
    "                               Word2vec Algoritmaları\n",
    "                               \n",
    "  * Skip-gram : Ortadaki kelimelerden kenardaki kelimeleri tahmin eder.\n",
    "  * Continuous bag of words (CBOW) : Kenardaki kelimelerden ortadaki kelimeyi tahmin eder.\n",
    "                               \n",
    "                               \n",
    "                               "
   ]
  },
  {
   "cell_type": "markdown",
   "id": "437e9397",
   "metadata": {},
   "source": [
    "### Skip-gram Algoritması"
   ]
  },
  {
   "cell_type": "code",
   "execution_count": 8,
   "id": "aca9cb33",
   "metadata": {},
   "outputs": [],
   "source": [
    "# Ortadaki kelimeye göre kenardaki kelimeleri tahmin ediyor.\n",
    "# Input: orta kelime, output: kenardaki kelimeler\n",
    "# Ortadaki kelimenin sagından ve solundan pencere büyüklüğü kadar kelime tahmin ediliyor\n",
    "# Pencere büyüklüğü 2 ise sağdan iki kelime ve soldan iki kelime dikkate alınır"
   ]
  },
  {
   "cell_type": "markdown",
   "id": "5efe868b",
   "metadata": {},
   "source": [
    "skip-gram\n",
    "* Cbow'a göre küçük corpus da daha iyi sonuç verir\n",
    "* Cbow'a göre yavaş"
   ]
  },
  {
   "cell_type": "markdown",
   "id": "95d52378",
   "metadata": {},
   "source": [
    "CBOW\n",
    "* Eğitim daha hızlı\n",
    "* Sık kullanılan kelimeleri daha iyi temsil eder\n",
    "* Daha büyük corpus'a ihtiyaç duyar ve nadir kelimeleri temsil etmekte sıkıntı yaşayabilir"
   ]
  },
  {
   "cell_type": "code",
   "execution_count": 1,
   "id": "be323bc6",
   "metadata": {},
   "outputs": [],
   "source": [
    "import numpy as np\n",
    "from gensim.models import Word2Vec\n",
    "from sklearn.manifold import TSNE  # vektorleri grafiğe dökebilmek için\n",
    "import matplotlib.pyplot as plt  # grafiği çizebilmek için\n",
    "from nltk.tokenize import sent_tokenize, word_tokenize\n",
    "import nltk"
   ]
  },
  {
   "cell_type": "code",
   "execution_count": 2,
   "id": "52b2ecdd",
   "metadata": {},
   "outputs": [],
   "source": [
    "f = open('hurriyet.txt','r',encoding = 'utf8')\n",
    "text = f.read()\n",
    "\n",
    "t_list = text.split('\\n')  # split le ayırdık çünkü cümleler zaten satırlara bölünmüş"
   ]
  },
  {
   "cell_type": "code",
   "execution_count": 3,
   "id": "05b2fc6f",
   "metadata": {},
   "outputs": [],
   "source": [
    "corpus = []\n",
    "\n",
    "for cumle in t_list:\n",
    "    corpus.append(cumle.split())\n",
    "    "
   ]
  },
  {
   "cell_type": "code",
   "execution_count": 4,
   "id": "88824d81",
   "metadata": {},
   "outputs": [
    {
     "name": "stdout",
     "output_type": "stream",
     "text": [
      "[['iran', 'devlet', 'televizyonu', 'ülkedeki', 'eyaletin', 'sinde', 'yapılan', 'reformcuları', 'protesto', 'amaçlı', 'yürüyüşlere', 'milyonlarca', 'kişinin', 'katıldığını', 'bildirdi'], ['gösterilerde', 'fitnecilere', 'ölüm', 'münafıklara', 'ölüm', 'abd', 'ye', 'ölüm', 'ingiltere', 'ye', 'ölüm', 'sloganları', 'atıldı'], ['dini', 'lider', 'ali', 'hamaney', 've', 'cumhurbaşkanı', 'mahmud', 'ahmedinejad', 'ı', 'destekleyen', 'iranlılar', 'son', 'olaylarda', 'yeğeni', 'öldürülen', 'mir', 'hüseyin', 'musevi', 'başta', 'olmak', 'üzere', 'muhalefet', 'liderlerini', 'kınadılar'], ['musevi', 'ye', 'ölüm', 've', 'idam', 'idam', 'sloganları', 'duyuldu'], ['muhalefet', 'liderleri', 'kaçtı', 'mı', 'aşure', 'günü', 'yaşanan', 'çatışmalarda', 'devlet', 'kaynaklarına', 'göre', 'u', 'terörist', 'olmak', 'üzere', 'kişi', 'ölmüştü'], ['den', 'fazla', 'kişinin', 'yaralandığı', 'olaylar', 'sırasında', 'en', 'az', 'kişi', 'tutuklanmıştı'], ['öte', 'yandan', 'iran', 'haber', 'ajansı', 'irna', 'muhalif', 'liderler', 'mir', 'hüseyin', 'musevi', 've', 'mehdi', 'kerrubi', 'nin', 'başkentten', 'kaçarak', 'ülkenin', 'kuzeyine', 'geçtiğini', 'ileri', 'sürdü', 'ancak', 'muhalefet', 'iddiayı', 'yalanladı'], ['hamaney', 'in', 'bir', 'dönem', 'korumalığını', 'yapan', 've', 'şu', 'anda', 'fransa', 'da', 'saklandığı', 'söylenen', 'bir', 'kişinin', 'muhalefete', 'verdiği', 'bilgilere', 'göre', 'münzevi', 'yaşamı', 'na', 'rağmen', 'dini', 'liderin', 'havyara', 'karşı', 'korkunç', 'bir', 'iştahı', 'var'], ['baston', 've', 'at', 'meraklısı', 'hamaney', 'aynı', 'zamanda', 'değerli', 'mücevherlerle', 'bezenmiş', 'bastonların', 've', 'cins', 'atların', 'koleksiyonunu', 'yapıyor'], ['hamaney', 'in', 'antika', 'bastonlarının', 'sayısı']]\n"
     ]
    }
   ],
   "source": [
    "print(corpus[:10])"
   ]
  },
  {
   "cell_type": "code",
   "execution_count": 5,
   "id": "05fa0eff",
   "metadata": {},
   "outputs": [],
   "source": [
    "model = Word2Vec(corpus, vector_size=100, window=5, min_count=5, sg=1)  "
   ]
  },
  {
   "cell_type": "markdown",
   "id": "5b92bb19",
   "metadata": {},
   "source": [
    " #### * window = 5 ortadaki kelimenin solundan ve sağından 5 er kelime alınacak, min_count= 5 corpus da en az 5 defa geçen kelimeleri alıyoruz sg= 1 diyerek skip-gram algoritmasını kullandığımızı belirttik çünkü default olarak CBOW algoritmasını sayıyor"
   ]
  },
  {
   "cell_type": "code",
   "execution_count": 6,
   "id": "591b62c7",
   "metadata": {
    "scrolled": true
   },
   "outputs": [
    {
     "data": {
      "text/plain": [
       "array([ 0.05195812, -0.4095196 , -0.30636564,  0.28193218,  0.5945994 ,\n",
       "        0.03338937, -0.33020106,  0.7271133 , -0.07777999, -0.3289505 ,\n",
       "       -0.02133458, -0.27340582, -0.12395076,  0.3625247 , -0.30247468,\n",
       "        0.5285968 ,  0.36547685, -0.47730607,  0.17081277, -0.6957468 ,\n",
       "       -0.32283005,  0.32997632,  0.63586557, -0.6674893 , -0.0015471 ,\n",
       "        0.11587914, -0.32747623, -0.1306288 , -0.24182078,  0.58173853,\n",
       "        0.42593274,  0.17982249, -0.00345208, -0.5186298 ,  0.20679979,\n",
       "       -0.20120691, -0.2547598 ,  0.0700419 ,  0.05745922, -0.5548196 ,\n",
       "        0.58719945, -0.08997966,  0.4004371 , -0.16542327,  0.3927654 ,\n",
       "        0.05636888, -0.40742454, -0.02301528,  0.09348061, -0.12803513,\n",
       "        0.05910947, -0.13591452,  0.21330246, -0.35133582, -0.17521387,\n",
       "       -0.26762033, -0.02468185,  0.18493469, -0.40680572, -0.5924853 ,\n",
       "        0.01235475,  0.18485601,  0.07458473,  0.34310234, -0.10782281,\n",
       "        0.07670075,  0.10192087,  0.08629187, -0.19644713, -0.03962225,\n",
       "       -0.16365781,  0.00794743,  0.25847664, -0.27895117,  0.2818684 ,\n",
       "        0.1719662 ,  0.01889539,  0.1184254 , -0.27831838, -0.1372115 ,\n",
       "        0.66636467, -0.72702503,  0.26945648,  0.7009335 ,  0.5418249 ,\n",
       "       -0.22157063,  0.23271179,  0.6666878 ,  0.61086994,  0.4282408 ,\n",
       "        0.711649  , -0.10687374,  0.42940703,  0.23807941,  0.38375422,\n",
       "       -0.1069245 ,  0.2731016 , -0.13704781,  0.22887452, -0.07959363],\n",
       "      dtype=float32)"
      ]
     },
     "execution_count": 6,
     "metadata": {},
     "output_type": "execute_result"
    }
   ],
   "source": [
    "model.wv['ankara']  # görüldüğü gibi vektöre çevirmiş olduk"
   ]
  },
  {
   "cell_type": "code",
   "execution_count": 7,
   "id": "609333bc",
   "metadata": {},
   "outputs": [
    {
     "data": {
      "text/plain": [
       "[('danimarka', 0.8286641240119934),\n",
       " ('avusturya', 0.8243297934532166),\n",
       " ('belçika', 0.7990153431892395),\n",
       " ('almanya', 0.7571476101875305),\n",
       " ('ispanya', 0.7446383833885193),\n",
       " ('kanada', 0.7321105599403381),\n",
       " ('finlandiya', 0.7316133975982666),\n",
       " ('letonya', 0.731437623500824),\n",
       " ('avustralya', 0.7269033789634705),\n",
       " ('fransa', 0.7190529108047485)]"
      ]
     },
     "execution_count": 7,
     "metadata": {},
     "output_type": "execute_result"
    }
   ],
   "source": [
    "model.wv.most_similar('hollanda')"
   ]
  },
  {
   "cell_type": "code",
   "execution_count": 8,
   "id": "15631805",
   "metadata": {},
   "outputs": [
    {
     "data": {
      "text/plain": [
       "[('perşembe', 0.9179752469062805),\n",
       " ('salı', 0.915447473526001),\n",
       " ('cumartesi', 0.9016736149787903),\n",
       " ('çarşamba', 0.8915318250656128),\n",
       " ('cuma', 0.8804355263710022),\n",
       " ('günü', 0.8744553327560425),\n",
       " ('akşamı', 0.8218414187431335),\n",
       " ('sabahı', 0.8133915662765503),\n",
       " ('pazar', 0.7995498776435852),\n",
       " ('gününden', 0.7456552386283875)]"
      ]
     },
     "execution_count": 8,
     "metadata": {},
     "output_type": "execute_result"
    }
   ],
   "source": [
    "model.wv.most_similar('pazartesi')"
   ]
  },
  {
   "cell_type": "code",
   "execution_count": 9,
   "id": "a647ee15",
   "metadata": {},
   "outputs": [],
   "source": [
    "# oluşturduğumuz bu modeli daha sonra kullanmak için kaydediyoruz"
   ]
  },
  {
   "cell_type": "code",
   "execution_count": 10,
   "id": "0b58da7d",
   "metadata": {},
   "outputs": [],
   "source": [
    "model.save('word2vec.model')"
   ]
  },
  {
   "cell_type": "code",
   "execution_count": 11,
   "id": "043f0e0d",
   "metadata": {},
   "outputs": [],
   "source": [
    "model = Word2Vec.load('word2vec.model')"
   ]
  },
  {
   "cell_type": "code",
   "execution_count": 12,
   "id": "257c86f9",
   "metadata": {},
   "outputs": [
    {
     "data": {
      "text/plain": [
       "<gensim.models.word2vec.Word2Vec at 0x2b0795a5580>"
      ]
     },
     "execution_count": 12,
     "metadata": {},
     "output_type": "execute_result"
    }
   ],
   "source": [
    "model"
   ]
  },
  {
   "cell_type": "markdown",
   "id": "d901b348",
   "metadata": {},
   "source": [
    "### TSNE ile vektörleri grafiğe dökme"
   ]
  },
  {
   "cell_type": "markdown",
   "id": "02898893",
   "metadata": {},
   "source": [
    "* Manifold learning algoritmaları, asıl olarak veri görselleştirme için kullanılır. t-SNE (t-Distributed Stochastic Neighbor Embedding), en kullanışlı manifold learning algoritmalarından biridir. t-SNE algoritmasının ana fikri, noktalar arasındaki uzaklıkları olabildiğince koruyacak bir şekilde düşük boyutlu bir temsil bulmaktır. t-SNE, her bir veri noktası için rastgele bir düşük boyutlu temsil ile başlar ve, orjinal uzayda yakın olan noktaları birbirine yakın, uzak olanları ise birbirinden uzak tutmaya çalışır. t-SNE, birbirine uzak noktaların arasındaki uzaklığı korumaktansa birbirine yakın noktalara daha çok önem verir."
   ]
  },
  {
   "cell_type": "code",
   "execution_count": 19,
   "id": "0cad203c",
   "metadata": {},
   "outputs": [],
   "source": [
    "def closestwords_tsneplot(model, word):\n",
    "    word_vectors = np.empty((0,100)) # boş bir numpy arrayı içerisine atadık\n",
    "    word_labels = [word]\n",
    "    \n",
    "    close_words = model.wv.most_similar(word)\n",
    "    \n",
    "    word_vectors = np.append(word_vectors, np.array([model.wv[word]]), axis=0)\n",
    "    \n",
    "    for w, _ in close_words:\n",
    "        word_labels.append(w)\n",
    "        word_vectors = np.append(word_vectors, np.array([model.wv[w]]), axis=0)\n",
    "\n",
    "# kelimelerin vektorlerini dizi içerisinde topladık \n",
    "# kelimelerin kendisini ise liste içerisinde topladık\n",
    "        \n",
    "    tsne = TSNE(random_state=0)\n",
    "    Y = tsne.fit_transform(word_vectors)\n",
    "    \n",
    "    x_coords = Y[:, 0]\n",
    "    y_coords = Y[:, 1]\n",
    "    \n",
    "    plt.scatter(x_coords, y_coords)\n",
    "    \n",
    "    for label, x, y in zip(word_labels, x_coords, y_coords):\n",
    "        plt.annotate(label, xy=(x, y), xytext=(5, -2), textcoords='offset points')\n",
    "#  annotate sayesinde oluşturdugumuz grafikler üzerinde yazılar yazabiliriz      \n",
    "    plt.show()"
   ]
  },
  {
   "cell_type": "code",
   "execution_count": 20,
   "id": "2d5a2f0b",
   "metadata": {},
   "outputs": [
    {
     "name": "stderr",
     "output_type": "stream",
     "text": [
      "C:\\Users\\Aleyna\\anaconda3\\lib\\site-packages\\sklearn\\manifold\\_t_sne.py:780: FutureWarning: The default initialization in TSNE will change from 'random' to 'pca' in 1.2.\n",
      "  warnings.warn(\n",
      "C:\\Users\\Aleyna\\anaconda3\\lib\\site-packages\\sklearn\\manifold\\_t_sne.py:790: FutureWarning: The default learning rate in TSNE will change from 200.0 to 'auto' in 1.2.\n",
      "  warnings.warn(\n"
     ]
    },
    {
     "data": {
      "image/png": "[encoded data removed]",
      "text/plain": [
       "<Figure size 432x288 with 1 Axes>"
      ]
     },
     "metadata": {
      "needs_background": "light"
     },
     "output_type": "display_data"
    }
   ],
   "source": [
    "closestwords_tsneplot(model,\"berlin\")"
   ]
  },
  {
   "cell_type": "markdown",
   "id": "af2e751e",
   "metadata": {},
   "source": [
    "* Gördüğünüz gibi çoğu sınıf tek bir öbekte toplanmış durumda. Bu metodun bir gözetimsiz öğrenme metodu olduğunu göz önünde bulundurursak – yani, etiketler hakkında hiç bir bilgiye sahip değil – iki boyutta da sınıfları birbirinden ayırabilen bir temsil bulabildi."
   ]
  },
  {
   "cell_type": "code",
   "execution_count": 1,
   "id": "6d32f999",
   "metadata": {},
   "outputs": [
    {
     "ename": "NameError",
     "evalue": "name 'closestwords_tsneplot' is not defined",
     "output_type": "error",
     "traceback": [
      "\u001b[1;31m---------------------------------------------------------------------------\u001b[0m",
      "\u001b[1;31mNameError\u001b[0m                                 Traceback (most recent call last)",
      "Input \u001b[1;32mIn [1]\u001b[0m, in \u001b[0;36m<cell line: 1>\u001b[1;34m()\u001b[0m\n\u001b[1;32m----> 1\u001b[0m \u001b[43mclosestwords_tsneplot\u001b[49m(model,\u001b[38;5;124m\"\u001b[39m\u001b[38;5;124mtemmuz\u001b[39m\u001b[38;5;124m\"\u001b[39m)\n",
      "\u001b[1;31mNameError\u001b[0m: name 'closestwords_tsneplot' is not defined"
     ]
    }
   ],
   "source": [
    "closestwords_tsneplot(model,\"temmuz\")"
   ]
  },
  {
   "cell_type": "code",
   "execution_count": null,
   "id": "49c74915-9aac-4bf0-bc48-b7d0520dafe0",
   "metadata": {},
   "outputs": [],
   "source": []
  }
 ],
 "metadata": {
  "kernelspec": {
   "display_name": "Python 3 (ipykernel)",
   "language": "python",
   "name": "python3"
  },
  "language_info": {
   "codemirror_mode": {
    "name": "ipython",
    "version": 3
   },
   "file_extension": ".py",
   "mimetype": "text/x-python",
   "name": "python",
   "nbconvert_exporter": "python",
   "pygments_lexer": "ipython3",
   "version": "3.9.12"
  }
 },
 "nbformat": 4,
 "nbformat_minor": 5
}
